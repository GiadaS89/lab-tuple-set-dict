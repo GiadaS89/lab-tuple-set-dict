{
 "cells": [
  {
   "cell_type": "markdown",
   "metadata": {},
   "source": [
    "## Challenge 2: Sets\n",
    "\n",
    "There are a lot to learn about Python Sets and the information presented in the lesson is limited due to its length. To learn Python Sets in depth you are strongly encouraged to review the W3Schools tutorial on [Python Sets Examples and Methods](https://www.w3schools.com/python/python_sets.asp) before you work on this lab. Some difficult questions in this lab have their solutions in the W3Schools tutorial.\n",
    "\n",
    "#### First, import the Python `random` libary"
   ]
  },
  {
   "cell_type": "code",
   "execution_count": 1,
   "metadata": {},
   "outputs": [],
   "source": [
    "import random"
   ]
  },
  {
   "cell_type": "markdown",
   "metadata": {},
   "source": [
    "#### 1 - In the cell below, create a list named `sample_list_1` with 80 random values. \n",
    "\n",
    "Requirements:\n",
    "\n",
    "* Each value is an integer falling between 0 and 100.\n",
    "* Each value in the list is unique.\n",
    "\n",
    "Print `sample_list_1` to review its values\n",
    "\n",
    "*Hint: use `random.sample` ([reference](https://docs.python.org/3/library/random.html#random.sample)).*"
   ]
  },
  {
   "cell_type": "code",
   "execution_count": 15,
   "metadata": {},
   "outputs": [
    {
     "name": "stdout",
     "output_type": "stream",
     "text": [
      "[6, 1, 46, 34, 5, 26, 60, 62, 63, 80, 41, 27, 79, 73, 16, 20, 14, 69, 2, 18, 82, 25, 44, 45, 12, 37, 58, 24, 7, 19, 23, 55, 96, 53, 66, 78, 17, 67, 22, 95, 75, 94, 93, 54, 92, 98, 33, 87, 8, 70, 39, 32, 31, 52, 97, 99, 85, 57, 74, 50, 89, 61, 13, 49, 90, 56, 91, 29, 35, 72, 59, 4, 38, 64, 11, 81, 83, 3, 40, 36]\n",
      "<class 'list'>\n"
     ]
    }
   ],
   "source": [
    "# Your code here\n",
    "\n",
    "#To choose a sample from a range of integers, use a range() object as an argument. \n",
    "#This is especially fast and space efficient for sampling from a large population: sample(range(10000000), k=60).\n",
    "\n",
    "\n",
    "sample_list_1 = random.sample(range(0,100), 80)\n",
    "print(sample_list_1)\n",
    "\n"
   ]
  },
  {
   "cell_type": "markdown",
   "metadata": {},
   "source": [
    "#### 2 - Convert `sample_list_1` to a set called `set1`. Print the length of the set. Is its length still 80?"
   ]
  },
  {
   "cell_type": "code",
   "execution_count": 19,
   "metadata": {},
   "outputs": [
    {
     "name": "stdout",
     "output_type": "stream",
     "text": [
      "<class 'list'>\n",
      "{1, 2, 3, 4, 5, 6, 7, 8, 11, 12, 13, 14, 16, 17, 18, 19, 20, 22, 23, 24, 25, 26, 27, 29, 31, 32, 33, 34, 35, 36, 37, 38, 39, 40, 41, 44, 45, 46, 49, 50, 52, 53, 54, 55, 56, 57, 58, 59, 60, 61, 62, 63, 64, 66, 67, 69, 70, 72, 73, 74, 75, 78, 79, 80, 81, 82, 83, 85, 87, 89, 90, 91, 92, 93, 94, 95, 96, 97, 98, 99}\n",
      "<class 'set'>\n",
      "80\n"
     ]
    },
    {
     "data": {
      "text/plain": [
       "True"
      ]
     },
     "execution_count": 19,
     "metadata": {},
     "output_type": "execute_result"
    }
   ],
   "source": [
    "# Your code here\n",
    "\n",
    "print(type(sample_list_1))\n",
    "\n",
    "set1 = set(sample_list_1)\n",
    "print(set1)\n",
    "\n",
    "print(type(set1))\n",
    "\n",
    "print(len(set1))\n",
    "\n",
    "len(set1) == len(sample_list_1)\n"
   ]
  },
  {
   "cell_type": "markdown",
   "metadata": {},
   "source": [
    "#### 3 - Create another list named `sample_list_2` with 80 random values.\n",
    "\n",
    "Requirements:\n",
    "\n",
    "* Each value is an integer falling between 0 and 100.\n",
    "* The values in the list don't have to be unique.\n",
    "\n",
    "*Hint: Use a FOR loop.*"
   ]
  },
  {
   "cell_type": "code",
   "execution_count": 42,
   "metadata": {},
   "outputs": [
    {
     "name": "stdout",
     "output_type": "stream",
     "text": [
      "[18, 60, 29, 3, 0, 70, 17, 9, 57, 25, 44, 95, 1, 42, 51, 13, 76, 48, 78, 81, 49, 20, 37, 75, 91, 69, 77, 93, 33, 7, 82, 56, 39, 5, 71, 96, 90, 16, 10, 30, 64, 41, 4, 59, 35, 2, 54, 87, 50, 24, 47, 15, 72, 31, 53, 84, 28, 6, 12, 88, 97, 85, 21, 14, 65, 92, 55, 52, 100, 34, 19, 80, 22, 11, 32, 40, 43, 27, 46, 61]\n",
      "80\n"
     ]
    },
    {
     "data": {
      "text/plain": [
       "True"
      ]
     },
     "execution_count": 42,
     "metadata": {},
     "output_type": "execute_result"
    }
   ],
   "source": [
    "# Your code here\n",
    "\n",
    "# random.randint(a, b): returns a random integer N such that a <= N <= b. Alias for randrange(a, b+1).\n",
    "\n",
    "\n",
    "def sample_list_2(num = 80, start = 0, end = 100):\n",
    "    arr = []\n",
    "    tmp = random.randint(start, end)\n",
    "      \n",
    "    for x in range(num):\n",
    "        while tmp in arr:\n",
    "            tmp = random.randint(start, end)\n",
    "        arr.append(tmp)\n",
    "          \n",
    "    #arr.sort()\n",
    "      \n",
    "    return arr\n",
    "   \n",
    "\n",
    "print(sample_list_2(80))\n",
    "\n",
    "print(len(sample_list_2(80)))\n",
    "\n",
    "len(sample_list_2(80)) == len(sample_list_1)\n",
    "        "
   ]
  },
  {
   "cell_type": "markdown",
   "metadata": {},
   "source": [
    "#### 4 - Convert `sample_list_2` to a set called `set2`. Print the length of the set. Is its length still 80?"
   ]
  },
  {
   "cell_type": "code",
   "execution_count": 43,
   "metadata": {},
   "outputs": [
    {
     "name": "stdout",
     "output_type": "stream",
     "text": [
      "{0, 1, 2, 3, 4, 5, 7, 8, 10, 11, 12, 13, 14, 15, 16, 17, 18, 19, 22, 23, 24, 25, 26, 28, 29, 30, 32, 34, 35, 37, 38, 39, 40, 41, 42, 43, 44, 45, 46, 48, 51, 53, 54, 55, 57, 58, 59, 60, 61, 63, 64, 65, 66, 67, 70, 72, 73, 74, 75, 76, 77, 78, 79, 80, 82, 83, 85, 86, 87, 88, 89, 90, 92, 94, 95, 96, 97, 98, 99, 100}\n"
     ]
    }
   ],
   "source": [
    "# Your code here\n",
    "\n",
    "set2 = set(sample_list_2(80))\n",
    "print(set2)\n"
   ]
  },
  {
   "cell_type": "markdown",
   "metadata": {},
   "source": [
    "#### 5 - Identify the elements present in `set1` but not in `set2`. Assign the elements to a new set named `set3`."
   ]
  },
  {
   "cell_type": "code",
   "execution_count": 57,
   "metadata": {},
   "outputs": [
    {
     "name": "stdout",
     "output_type": "stream",
     "text": [
      "{33, 36, 69, 6, 91, 49, 50, 81, 20, 52, 56, 27, 93, 62, 31}\n",
      "15\n"
     ]
    }
   ],
   "source": [
    "# Your code here\n",
    "\n",
    "#Find all the elements that set 1 has that set 2 does not have, by using the difference() function\n",
    "\n",
    "set3 = set1.difference(set2)\n",
    "\n",
    "print(set3)\n",
    "\n"
   ]
  },
  {
   "cell_type": "markdown",
   "metadata": {},
   "source": [
    "#### 6 - Identify the elements present in `set2` but not in `set1`. Assign the elements to a new set named `set4`."
   ]
  },
  {
   "cell_type": "code",
   "execution_count": 49,
   "metadata": {},
   "outputs": [
    {
     "name": "stdout",
     "output_type": "stream",
     "text": [
      "{0, 65, 100, 10, 42, 43, 76, 77, 15, 48, 51, 86, 88, 28, 30}\n"
     ]
    }
   ],
   "source": [
    "# Your code here\n",
    "\n",
    "#Find all the elements that set 2 has that set 1 does not have, by using the difference() function\n",
    "set4 = set2.difference(set1)\n",
    "\n",
    "print(set4)\n"
   ]
  },
  {
   "cell_type": "markdown",
   "metadata": {},
   "source": [
    "#### 7 - Now Identify the elements shared between `set1` and `set2`. Assign the elements to a new set named `set5`."
   ]
  },
  {
   "cell_type": "code",
   "execution_count": 50,
   "metadata": {},
   "outputs": [
    {
     "name": "stdout",
     "output_type": "stream",
     "text": [
      "{1, 2, 3, 4, 5, 7, 8, 11, 12, 13, 14, 16, 17, 18, 19, 22, 23, 24, 25, 26, 29, 32, 34, 35, 37, 38, 39, 40, 41, 44, 45, 46, 53, 54, 55, 57, 58, 59, 60, 61, 63, 64, 66, 67, 70, 72, 73, 74, 75, 78, 79, 80, 82, 83, 85, 87, 89, 90, 92, 94, 95, 96, 97, 98, 99}\n"
     ]
    }
   ],
   "source": [
    "# Your code here\n",
    "\n",
    "#Fin all the elements in common between set 1 and set 2, by using the intersection() function\n",
    "\n",
    "set5 = set1.intersection(set2)\n",
    "\n",
    "print(set5)\n"
   ]
  },
  {
   "cell_type": "markdown",
   "metadata": {},
   "source": [
    "#### 8 - Create an empty set called `set6`."
   ]
  },
  {
   "cell_type": "code",
   "execution_count": 51,
   "metadata": {},
   "outputs": [
    {
     "name": "stdout",
     "output_type": "stream",
     "text": [
      "Create a new set:\n",
      "set()\n",
      "<class 'set'>\n"
     ]
    }
   ],
   "source": [
    "# Your code here\n",
    "\n",
    "print(\"Create a new set:\")\n",
    "\n",
    "set6 = set()\n",
    "\n",
    "print(set6)\n",
    "\n",
    "print(type(set6))"
   ]
  },
  {
   "cell_type": "markdown",
   "metadata": {},
   "source": [
    "#### 9 - Add `set3` and `set5` to `set6` using the Python Set `update` method."
   ]
  },
  {
   "cell_type": "code",
   "execution_count": 89,
   "metadata": {},
   "outputs": [
    {
     "name": "stdout",
     "output_type": "stream",
     "text": [
      "15\n",
      "65\n",
      "Alternative 1:\n",
      "{1, 2, 3, 4, 5, 6, 7, 8, 11, 12, 13, 14, 16, 17, 18, 19, 20, 22, 23, 24, 25, 26, 27, 29, 31, 32, 33, 34, 35, 36, 37, 38, 39, 40, 41, 44, 45, 46, 49, 50, 52, 53, 54, 55, 56, 57, 58, 59, 60, 61, 62, 63, 64, 66, 67, 69, 70, 72, 73, 74, 75, 78, 79, 80, 81, 82, 83, 85, 87, 89, 90, 91, 92, 93, 94, 95, 96, 97, 98, 99}\n",
      "80\n",
      "Alternative 2:\n",
      "{1, 2, 3, 4, 5, 6, 7, 8, 11, 12, 13, 14, 16, 17, 18, 19, 20, 22, 23, 24, 25, 26, 27, 29, 31, 32, 33, 34, 35, 36, 37, 38, 39, 40, 41, 44, 45, 46, 49, 50, 52, 53, 54, 55, 56, 57, 58, 59, 60, 61, 62, 63, 64, 66, 67, 69, 70, 72, 73, 74, 75, 78, 79, 80, 81, 82, 83, 85, 87, 89, 90, 91, 92, 93, 94, 95, 96, 97, 98, 99}\n"
     ]
    }
   ],
   "source": [
    "# Your code here\n",
    "\n",
    "set3 = {33, 36, 69, 6, 91, 49, 50, 81, 20, 52, 56, 27, 93, 62, 31}\n",
    "set5 = {1, 2, 3, 4, 5, 7, 8, 11, 12, 13, 14, 16, 17, 18, 19, 22, 23, 24, 25, 26, 29, 32, 34, 35, 37, 38, 39, 40, 41, 44, 45, 46, 53, 54, 55, 57, 58, 59, 60, 61, 63, 64, 66, 67, 70, 72, 73, 74, 75, 78, 79, 80, 82, 83, 85, 87, 89, 90, 92, 94, 95, 96, 97, 98, 99}\n",
    "\n",
    "print(len(set3))\n",
    "print(len(set5))\n",
    "\n",
    "# The update() function demonstrates how to add the contents of a list to a set. \n",
    "\n",
    "#Alternative1: we use the | operator (or |= operator) to concatenate two sets. This returns a new set.\n",
    "\n",
    "print('Alternative 1:')\n",
    "\n",
    "set6 = set3 | set5\n",
    "\n",
    "print(set6)\n",
    "print(len(set6))\n",
    "\n",
    "\n",
    "#Alternative2: we use the union() function to merge the contents of sets 5 and 6 and return a new set.\n",
    "\n",
    "print('Alternative 2:')\n",
    "\n",
    "set6 = set3.union(set5)\n",
    "print(set6)"
   ]
  },
  {
   "cell_type": "markdown",
   "metadata": {},
   "source": [
    "#### 10 - Check if `set1` and `set6` are equal."
   ]
  },
  {
   "cell_type": "code",
   "execution_count": 62,
   "metadata": {},
   "outputs": [
    {
     "data": {
      "text/plain": [
       "True"
      ]
     },
     "execution_count": 62,
     "metadata": {},
     "output_type": "execute_result"
    }
   ],
   "source": [
    "# Your code here\n",
    "\n",
    "set1 == set6"
   ]
  },
  {
   "cell_type": "markdown",
   "metadata": {},
   "source": [
    "#### 11 - Check if `set1` contains `set2` using the Python Set `issubset` method. Then check if `set1` contains `set3`.*"
   ]
  },
  {
   "cell_type": "code",
   "execution_count": 66,
   "metadata": {},
   "outputs": [
    {
     "name": "stdout",
     "output_type": "stream",
     "text": [
      "False\n",
      "True\n"
     ]
    }
   ],
   "source": [
    "# Your code here\n",
    "\n",
    "set1 \n",
    "set2\n",
    "set3\n",
    "\n",
    "print(set2.issubset(set1))\n",
    "\n",
    "print(set3.issubset(set1))\n",
    "\n",
    "\n",
    "#Return False if set1 does not contain set2 or set3\n",
    "#Return True if set1 contains set2 or set3"
   ]
  },
  {
   "cell_type": "markdown",
   "metadata": {},
   "source": [
    "#### 12 -Using the Python Set `union` method, aggregate `set3`, `set4`, and `set5`. Then aggregate `set1` and `set2`. \n",
    "\n",
    "#### Check if the aggregated values are equal."
   ]
  },
  {
   "cell_type": "code",
   "execution_count": 87,
   "metadata": {},
   "outputs": [
    {
     "name": "stdout",
     "output_type": "stream",
     "text": [
      "Union of set3, set4, and set5:\n",
      "{0, 1, 2, 3, 4, 5, 6, 7, 8, 10, 11, 12, 13, 14, 15, 16, 17, 18, 19, 20, 22, 23, 24, 25, 26, 27, 28, 29, 30, 31, 32, 33, 34, 35, 36, 37, 38, 39, 40, 41, 42, 43, 44, 45, 46, 48, 49, 50, 51, 52, 53, 54, 55, 56, 57, 58, 59, 60, 61, 62, 63, 64, 65, 66, 67, 69, 70, 72, 73, 74, 75, 76, 77, 78, 79, 80, 81, 82, 83, 85, 86, 87, 88, 89, 90, 91, 92, 93, 94, 95, 96, 97, 98, 99, 100}\n",
      "Aggregate set1 and set2 to set7:\n",
      "{0, 1, 2, 3, 4, 5, 6, 7, 8, 10, 11, 12, 13, 14, 15, 16, 17, 18, 19, 20, 22, 23, 24, 25, 26, 27, 28, 29, 30, 31, 32, 33, 34, 35, 36, 37, 38, 39, 40, 41, 42, 43, 44, 45, 46, 48, 49, 50, 51, 52, 53, 54, 55, 56, 57, 58, 59, 60, 61, 62, 63, 64, 65, 66, 67, 69, 70, 72, 73, 74, 75, 76, 77, 78, 79, 80, 81, 82, 83, 85, 86, 87, 88, 89, 90, 91, 92, 93, 94, 95, 96, 97, 98, 99, 100}\n"
     ]
    }
   ],
   "source": [
    "# Your code here\n",
    "\n",
    "print('Union of set3, set4, and set5:')\n",
    "set7 = set3.union(set4).union(set5)\n",
    "print(set7)\n",
    "\n",
    "\n",
    "print('Aggregate set1 and set2 to set7:')\n",
    "set8 = set7.union(set1).union(set2)\n",
    "print(set8)"
   ]
  },
  {
   "cell_type": "markdown",
   "metadata": {},
   "source": [
    "#### 13 -Using the `pop` method, remove the first element from `set1`."
   ]
  },
  {
   "cell_type": "code",
   "execution_count": 80,
   "metadata": {},
   "outputs": [
    {
     "name": "stdout",
     "output_type": "stream",
     "text": [
      "{12, 13, 14, 16, 17, 18, 19, 20, 22, 23, 24, 25, 26, 27, 29, 31, 32, 33, 34, 35, 36, 37, 38, 39, 40, 41, 44, 45, 46, 49, 50, 52, 53, 54, 55, 56, 57, 58, 59, 60, 61, 62, 63, 64, 66, 67, 69, 70, 72, 73, 74, 75, 78, 79, 80, 81, 82, 83, 85, 87, 89, 90, 91, 92, 93, 94, 95, 96, 97, 98, 99}\n"
     ]
    },
    {
     "ename": "TypeError",
     "evalue": "set.pop() takes no arguments (1 given)",
     "output_type": "error",
     "traceback": [
      "\u001b[0;31m---------------------------------------------------------------------------\u001b[0m",
      "\u001b[0;31mTypeError\u001b[0m                                 Traceback (most recent call last)",
      "Input \u001b[0;32mIn [80]\u001b[0m, in \u001b[0;36m<cell line: 11>\u001b[0;34m()\u001b[0m\n\u001b[1;32m      6\u001b[0m \u001b[38;5;28mprint\u001b[39m(set1)\n\u001b[1;32m      9\u001b[0m \u001b[38;5;66;03m#If we specify the position or the element to be removed from set1 with pop, an error will be triggered.\u001b[39;00m\n\u001b[0;32m---> 11\u001b[0m \u001b[43mset1\u001b[49m\u001b[38;5;241;43m.\u001b[39;49m\u001b[43mpop\u001b[49m\u001b[43m(\u001b[49m\u001b[38;5;241;43m1\u001b[39;49m\u001b[43m)\u001b[49m\n\u001b[1;32m     12\u001b[0m \u001b[38;5;28mprint\u001b[39m(set1)\n",
      "\u001b[0;31mTypeError\u001b[0m: set.pop() takes no arguments (1 given)"
     ]
    }
   ],
   "source": [
    "# Your code here\n",
    "\n",
    "#The pop() method removes an arbitrary element from the set and returns the element removed.\n",
    "\n",
    "set1.pop()\n",
    "print(set1)\n",
    "\n",
    "\n",
    "#If we specify the position or the element to be removed from set1 with pop, an error will be triggered.\n",
    "\n",
    "set1.pop(1)\n",
    "print(set1)\n"
   ]
  },
  {
   "cell_type": "code",
   "execution_count": 81,
   "metadata": {},
   "outputs": [
    {
     "name": "stdout",
     "output_type": "stream",
     "text": [
      "[1, 46, 34, 5, 26, 60, 62, 63, 80, 41, 27, 79, 73, 16, 20, 14, 69, 2, 18, 82, 25, 44, 45, 12, 37, 58, 24, 7, 19, 23, 55, 96, 53, 66, 78, 17, 67, 22, 95, 75, 94, 93, 54, 92, 98, 33, 87, 8, 70, 39, 32, 31, 52, 97, 99, 85, 57, 74, 50, 89, 61, 13, 49, 90, 56, 91, 29, 35, 72, 59, 4, 38, 64, 11, 81, 83, 3, 40, 36]\n"
     ]
    }
   ],
   "source": [
    "#We take sample_list_1, which is a list, and we indicate the position of the element that we want to remove from the\n",
    "#list by using pop function\n",
    "\n",
    "sample_list_1 = [6, 1, 46, 34, 5, 26, 60, 62, 63, 80, 41, 27, 79, 73, 16, 20, 14, 69, 2, 18, 82, 25, 44, 45, 12, \n",
    "                 37, 58, 24, 7, 19, 23, 55, 96, 53, 66, 78, 17, 67, 22, 95, 75, 94, 93, 54, 92, 98, 33, 87, 8, 70, \n",
    "                 39, 32, 31, 52, 97, 99, 85, 57, 74, 50, 89, 61, 13, 49, 90, 56, 91, 29, 35, 72, 59, 4, 38, 64, \n",
    "                 11, 81, 83, 3, 40, 36]\n",
    "\n",
    "sample_list_1.pop(0)\n",
    "print(sample_list_1)"
   ]
  },
  {
   "cell_type": "markdown",
   "metadata": {},
   "source": [
    "#### 14 -Remove every element in the following list from `set1` if they are present in the set. Print the remaining elements.\n",
    "\n",
    "```\n",
    "list_to_remove = [1, 9, 11, 19, 21, 29, 31, 39, 41, 49, 51, 59, 61, 69, 71, 79, 81, 89, 91, 99]\n",
    "```"
   ]
  },
  {
   "cell_type": "code",
   "execution_count": 82,
   "metadata": {},
   "outputs": [
    {
     "name": "stdout",
     "output_type": "stream",
     "text": [
      "Modified Set1:\n",
      "{12, 13, 14, 16, 17, 18, 20, 22, 23, 24, 25, 26, 27, 32, 33, 34, 35, 36, 37, 38, 40, 44, 45, 46, 50, 52, 53, 54, 55, 56, 57, 58, 60, 62, 63, 64, 66, 67, 70, 72, 73, 74, 75, 78, 80, 82, 83, 85, 87, 90, 92, 93, 94, 95, 96, 97, 98}\n"
     ]
    }
   ],
   "source": [
    "# Your code here\n",
    "\n",
    "# Elements to be deleted from set1 -> this is a list\n",
    "list_to_remove = [1, 9, 11, 19, 21, 29, 31, 39, 41, 49, 51, 59, 61, 69, 71, 79, 81, 89, 91, 99]\n",
    "\n",
    "# Remove all elements of list_to_remove from the set1\n",
    "\n",
    "set1.difference_update(list_to_remove)\n",
    "\n",
    "print('Modified Set1:')\n",
    "print(set1)"
   ]
  },
  {
   "cell_type": "markdown",
   "metadata": {},
   "source": [
    "#### 15 -The objective of this lab is to provide you a overview of manipulating sets in Python and how they can be integrated within a real usecase\n",
    "#### For the exercises below it's strongly advised to quickly check this link: https://docs.python.org/2/library/sets.html#sets.Set\n",
    "#### Imagine you need to create the grocery list for your family! Below you will see a list of items each family member wants. There will be repetitions because this family has the habbit of each time they notice something is missing to write it down. The problem is that they don't really talk to each other and therefore some items in the list are repeated. With the collection of questions below you will see how they solve repetion and create a grocery list with unique elements.\n",
    "\n"
   ]
  },
  {
   "cell_type": "code",
   "execution_count": 84,
   "metadata": {},
   "outputs": [],
   "source": [
    "father_list = ['garlic', 'watermelon', 'toilet paper', 'yogurt', 'onions', 'gums', 'flour', 'cucumber', 'watermelon', 'yogurt', 'garlic']\n",
    "\n",
    "mother_list = []\n",
    "\n",
    "Jo_list = ['blueberries', 'sugar', 'watermelon', 'gums', 'tomatoes', 'yogurt', 'juice', 'milk', 'onions', 'garlic', 'cucumber', 'sugar', 'blueberries', 'gums', 'yogurt']\n",
    "\n",
    "Carlos_list = ['tomatoes', 'water', 'onions', 'blueberries', 'garlic', 'flour', 'cherries', 'tomatoes', 'onions', 'water', 'tomatoes', 'toilet paper']\n",
    "\n",
    "Mattia_list = []\n",
    "\n",
    "\n"
   ]
  },
  {
   "cell_type": "markdown",
   "metadata": {},
   "source": [
    "#### 15.1- As you can see there are items repeated in each list. Creat a sequence of iterable elements with dintinct items that each family member wants. You can do it in two different ways. Assign each one (set) to a variable with the name of the family member (ex: father_set)."
   ]
  },
  {
   "cell_type": "code",
   "execution_count": 93,
   "metadata": {},
   "outputs": [
    {
     "name": "stdout",
     "output_type": "stream",
     "text": [
      "{'toilet paper', 'gums', 'cucumber', 'yogurt', 'onions', 'flour', 'watermelon', 'garlic'}\n",
      "set()\n",
      "{'juice', 'gums', 'blueberries', 'tomatoes', 'cucumber', 'yogurt', 'onions', 'milk', 'watermelon', 'garlic', 'sugar'}\n",
      "{'water', 'toilet paper', 'blueberries', 'tomatoes', 'onions', 'flour', 'cherries', 'garlic'}\n",
      "set()\n"
     ]
    }
   ],
   "source": [
    "# Your code here\n",
    "\n",
    "father_set = set(father_list)\n",
    "print(father_set)\n",
    "\n",
    "mother_set = set(mother_list)\n",
    "print(mother_set)\n",
    "\n",
    "jo_set = set(Jo_list)\n",
    "print(jo_set)\n",
    "\n",
    "carlos_set = set(Carlos_list)\n",
    "print(carlos_set)\n",
    "\n",
    "mattia_set = set(Mattia_list)\n",
    "print(mattia_set)\n"
   ]
  },
  {
   "cell_type": "markdown",
   "metadata": {},
   "source": [
    "#### 15.2- Q: Mattia wants the same items that his brother Carlos and his sister Jo but doesn't want anything they both want.\n",
    "\n",
    "##### Hint: check out the documentation for `x.symmetric_difference(y)`."
   ]
  },
  {
   "cell_type": "code",
   "execution_count": 95,
   "metadata": {},
   "outputs": [
    {
     "name": "stdout",
     "output_type": "stream",
     "text": [
      "{'water', 'juice', 'gums', 'toilet paper', 'cucumber', 'yogurt', 'milk', 'flour', 'cherries', 'watermelon', 'sugar'}\n"
     ]
    }
   ],
   "source": [
    "# Your code here\n",
    "\n",
    "#s.symmetric_difference(t) -> new set with elements in either s or t but not both\n",
    "\n",
    "mattia_set = carlos_set.symmetric_difference(jo_set)\n",
    "print(mattia_set)"
   ]
  },
  {
   "cell_type": "markdown",
   "metadata": {},
   "source": [
    "#### 15.3- The line of code below  will  generate a list of random elements from a collection of items, with replacement. Run it and from it create a sequence of unique elements and assign it to the variable mother.\n"
   ]
  },
  {
   "cell_type": "code",
   "execution_count": 97,
   "metadata": {},
   "outputs": [
    {
     "name": "stdout",
     "output_type": "stream",
     "text": [
      "['sugar', 'flour', 'toilet paper', 'chocolate', 'oranges', 'oranges', 'mushrooms', 'deodorant', 'juice', 'garlic']\n"
     ]
    }
   ],
   "source": [
    "import random\n",
    "items = ['milk', 'water', 'chocolate', 'blueberries', 'shampoo', 'flour', 'bread', 'sugar', 'watermelon', 'vinegar', 'tomatoes', 'yogurt', 'juice', 'gums', 'onions', 'garlic', 'cucumber', 'mushrooms', 'toilet paper', 'oranges', 'deodorant', 'cherries']\n",
    "\n",
    "mother_list = random.choices(items,k = 10) # https://docs.python.org/3/library/random.html\n",
    "\n",
    "print(mother_list)"
   ]
  },
  {
   "cell_type": "code",
   "execution_count": 99,
   "metadata": {},
   "outputs": [
    {
     "name": "stdout",
     "output_type": "stream",
     "text": [
      "<class 'list'>\n",
      "{'juice', 'toilet paper', 'oranges', 'deodorant', 'mushrooms', 'flour', 'garlic', 'sugar', 'chocolate'}\n"
     ]
    }
   ],
   "source": [
    "# Your code here\n",
    "\n",
    "print(type(mother_list))\n",
    "\n",
    "#You can get unique values by converting the list to a set. Sets don't allow repetition. \n",
    "#Hence the repitition 'oranges'was removed\n",
    "\n",
    "mother_set = print(set(mother_list))\n",
    "\n"
   ]
  },
  {
   "cell_type": "markdown",
   "metadata": {},
   "source": [
    "#### 15.4- Before leaving the house to the grocery store the father found a lot of toilet paper, so the mother decided to remove it from the items needed to be bought. Use the `.discard()` method to remove from each set created before the 'toilet paper'. \n",
    "\n",
    "#### Hint: Try to first create a list contaning the variables of each set created before, then loop through them and remove the unecessary item. \n",
    "\n",
    "##### Note: The`.discard()` method will remove and update the set without the need of reassignment.\n",
    "\n"
   ]
  },
  {
   "cell_type": "code",
   "execution_count": 316,
   "metadata": {},
   "outputs": [
    {
     "name": "stdout",
     "output_type": "stream",
     "text": [
      "Father list is:\n",
      "['garlic', 'watermelon', 'yogurt', 'onions', 'gums', 'flour', 'cucumber', 'watermelon', 'yogurt', 'garlic']\n",
      "Mother list is:\n",
      "['sugar', 'flour', 'chocolate', 'oranges', 'oranges', 'mushrooms', 'deodorant', 'juice', 'garlic']\n",
      "Jo list is:\n",
      "['blueberries', 'sugar', 'watermelon', 'gums', 'tomatoes', 'yogurt', 'juice', 'milk', 'onions', 'garlic', 'cucumber', 'sugar', 'blueberries', 'gums', 'yogurt']\n",
      "Carlos list is:\n",
      "['tomatoes', 'water', 'onions', 'blueberries', 'garlic', 'flour', 'cherries', 'tomatoes', 'onions', 'water', 'tomatoes', 'toilet paper']\n",
      "Mattia list is:\n",
      "['water', 'juice', 'gums', 'toilet paper', 'cucumber', 'yogurt', 'milk', 'flour', 'cherries', 'watermelon', 'sugar']\n"
     ]
    }
   ],
   "source": [
    "# Your code here\n",
    "\n",
    "#1. Print each single list\n",
    "\n",
    "print('Father list is:') \n",
    "print(father_list)\n",
    "\n",
    "print('Mother list is:') \n",
    "print(mother_list)\n",
    "\n",
    "print('Jo list is:') \n",
    "print(Jo_list)\n",
    "\n",
    "print('Carlos list is:') \n",
    "print(Carlos_list)\n",
    "\n",
    "print('Mattia list is:') \n",
    "print(list(mattia_set))\n",
    "\n",
    "\n"
   ]
  },
  {
   "cell_type": "code",
   "execution_count": 317,
   "metadata": {},
   "outputs": [
    {
     "name": "stdout",
     "output_type": "stream",
     "text": [
      "['water', 'juice', 'gums', 'toilet paper', 'cucumber', 'yogurt', 'milk', 'flour', 'cherries', 'watermelon', 'sugar']\n"
     ]
    }
   ],
   "source": [
    "#2. Remove toilet paper from each list \n",
    "\n",
    "(list(mattia_set)).remove('toilet paper')\n",
    "print(list(mattia_set))\n"
   ]
  },
  {
   "cell_type": "code",
   "execution_count": 318,
   "metadata": {},
   "outputs": [
    {
     "name": "stdout",
     "output_type": "stream",
     "text": [
      "Grocery list is:\n",
      "['garlic', 'watermelon', 'yogurt', 'onions', 'gums', 'flour', 'cucumber', 'watermelon', 'yogurt', 'garlic', 'sugar', 'flour', 'chocolate', 'oranges', 'oranges', 'mushrooms', 'deodorant', 'juice', 'garlic', 'blueberries', 'sugar', 'watermelon', 'gums', 'tomatoes', 'yogurt', 'juice', 'milk', 'onions', 'garlic', 'cucumber', 'sugar', 'blueberries', 'gums', 'yogurt', 'tomatoes', 'water', 'onions', 'blueberries', 'garlic', 'flour', 'cherries', 'tomatoes', 'onions', 'water', 'tomatoes', 'toilet paper', 'water', 'juice', 'gums', 'toilet paper', 'cucumber', 'yogurt', 'milk', 'flour', 'cherries', 'watermelon', 'sugar']\n"
     ]
    }
   ],
   "source": [
    "#2.1 Using + operator to create a grocery_list\n",
    "\n",
    "print('Grocery list is:')\n",
    "      \n",
    "grocery_list1 = father_list + mother_list + Jo_list + Carlos_list + list(mattia_set)\n",
    "print(grocery_list1)"
   ]
  },
  {
   "cell_type": "code",
   "execution_count": 319,
   "metadata": {},
   "outputs": [
    {
     "name": "stdout",
     "output_type": "stream",
     "text": [
      "['garlic', 'watermelon', 'yogurt', 'onions', 'gums', 'flour', 'cucumber', 'watermelon', 'yogurt', 'garlic', 'sugar', 'flour', 'chocolate', 'oranges', 'oranges', 'mushrooms', 'deodorant', 'juice', 'garlic', 'blueberries', 'sugar', 'watermelon', 'gums', 'tomatoes', 'yogurt', 'juice', 'milk', 'onions', 'garlic', 'cucumber', 'sugar', 'blueberries', 'gums', 'yogurt', 'tomatoes', 'water', 'onions', 'blueberries', 'garlic', 'flour', 'cherries', 'tomatoes', 'onions', 'water', 'tomatoes', 'toilet paper', 'water', 'juice', 'gums', 'toilet paper', 'cucumber', 'yogurt', 'milk', 'flour', 'cherries', 'watermelon', 'sugar']\n"
     ]
    }
   ],
   "source": [
    "#2.2 Create a grocery list with a for loop\n",
    "\n",
    "grocery_list2 = father_list + mother_list + Jo_list + Carlos_list + list(mattia_set)\n",
    "\n",
    "for i in range(0):\n",
    "    grocery_list2.append([grocery_list2])\n",
    "    \n",
    "print(grocery_list2)\n"
   ]
  },
  {
   "cell_type": "code",
   "execution_count": 320,
   "metadata": {},
   "outputs": [
    {
     "data": {
      "text/plain": [
       "True"
      ]
     },
     "execution_count": 320,
     "metadata": {},
     "output_type": "execute_result"
    }
   ],
   "source": [
    "grocery_list1 == grocery_list2"
   ]
  },
  {
   "cell_type": "code",
   "execution_count": 321,
   "metadata": {},
   "outputs": [
    {
     "name": "stdout",
     "output_type": "stream",
     "text": [
      "['garlic', 'watermelon', 'yogurt', 'onions', 'gums', 'flour', 'cucumber', 'watermelon', 'yogurt', 'garlic', 'sugar', 'flour', 'chocolate', 'oranges', 'oranges', 'mushrooms', 'deodorant', 'juice', 'garlic', 'blueberries', 'sugar', 'watermelon', 'gums', 'tomatoes', 'yogurt', 'juice', 'milk', 'onions', 'garlic', 'cucumber', 'sugar', 'blueberries', 'gums', 'yogurt', 'tomatoes', 'water', 'onions', 'blueberries', 'garlic', 'flour', 'cherries', 'tomatoes', 'onions', 'water', 'tomatoes', 'water', 'juice', 'gums', 'cucumber', 'yogurt', 'milk', 'flour', 'cherries', 'watermelon', 'sugar']\n"
     ]
    }
   ],
   "source": [
    "#Use the .discard() method to remove from each set created before the 'toilet paper'.\n",
    "\n",
    "#Remove() only removes the first item from the list where its value is equal to the specified value to remove\n",
    "\n",
    "#grocery_list2.remove('toilet paper')\n",
    "#print(grocery_list2)\n",
    "\n",
    "#Use a for loop to remove all items from the list where the value is equal to toilet paper\n",
    "\n",
    "print([i for i in grocery_list2 if i != 'toilet paper'])\n"
   ]
  },
  {
   "cell_type": "markdown",
   "metadata": {},
   "source": [
    "#### 15.5- Create a set with all the groceries needed to be bought for the house (no repetitions)."
   ]
  },
  {
   "cell_type": "code",
   "execution_count": 334,
   "metadata": {},
   "outputs": [
    {
     "name": "stdout",
     "output_type": "stream",
     "text": [
      "{'juice', 'gums', 'water', 'blueberries', 'cucumber', 'yogurt', 'milk', 'flour', 'oranges', 'toilet paper', 'deodorant', 'tomatoes', 'onions', 'cherries', 'mushrooms', 'watermelon', 'garlic', 'sugar', 'chocolate'}\n",
      "19\n"
     ]
    }
   ],
   "source": [
    "# Your code here\n",
    "\n",
    "grocery_set2 = print(set(grocery_list2))\n",
    "\n",
    "print(len(set(grocery_list2)))"
   ]
  },
  {
   "cell_type": "markdown",
   "metadata": {},
   "source": [
    "#### 15.6- The Father said that he could only buy five items this time. So he decided to arbitraly pick wich ones to buy this time.\n",
    "\n",
    "##### Hint: use the `.pop()` method."
   ]
  },
  {
   "cell_type": "code",
   "execution_count": 345,
   "metadata": {},
   "outputs": [
    {
     "name": "stdout",
     "output_type": "stream",
     "text": [
      "<class 'set'>\n",
      "{'flour', 'watermelon', 'garlic', 'sugar', 'chocolate'}\n"
     ]
    }
   ],
   "source": [
    "# Your code here\n",
    "\n",
    "grocery_set2 = {'juice', 'gums', 'water', 'blueberries', 'cucumber', 'yogurt', 'milk', 'flour', 'oranges', \n",
    "                 'toilet paper', 'deodorant', 'tomatoes', 'onions', 'cherries', 'mushrooms', 'watermelon', \n",
    "                 'garlic', 'sugar', 'chocolate'}\n",
    "\n",
    "print(type(grocery_set2))\n",
    "\n",
    "#Print a random grocery list of 5 items\n",
    "\n",
    "n = 14\n",
    "\n",
    "for i in range(n):\n",
    "    grocery_set2.pop()\n",
    "    \n",
    "print(grocery_set2)"
   ]
  },
  {
   "cell_type": "code",
   "execution_count": 329,
   "metadata": {},
   "outputs": [
    {
     "name": "stdout",
     "output_type": "stream",
     "text": [
      "flour oranges deodorant sugar onions "
     ]
    }
   ],
   "source": [
    "# declaring list\n",
    "grocery_list3 = ['juice', 'gums', 'water', 'blueberries', 'cucumber', 'yogurt', 'milk', 'flour', 'oranges', \n",
    "                 'toilet paper', 'deodorant', 'tomatoes', 'onions', 'cherries', 'mushrooms', 'watermelon', \n",
    "                 'garlic', 'sugar', 'chocolate']\n",
    "  \n",
    "# initializing the value of n\n",
    "n = 5\n",
    "  \n",
    "# traversing and printing random elements\n",
    "for i in range(n):\n",
    "    print(random.choice(grocery_list3), end = \" \")"
   ]
  }
 ],
 "metadata": {
  "kernelspec": {
   "display_name": "Python 3 (ipykernel)",
   "language": "python",
   "name": "python3"
  },
  "language_info": {
   "codemirror_mode": {
    "name": "ipython",
    "version": 3
   },
   "file_extension": ".py",
   "mimetype": "text/x-python",
   "name": "python",
   "nbconvert_exporter": "python",
   "pygments_lexer": "ipython3",
   "version": "3.9.12"
  }
 },
 "nbformat": 4,
 "nbformat_minor": 2
}
